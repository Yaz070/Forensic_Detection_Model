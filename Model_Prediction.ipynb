{
  "nbformat": 4,
  "nbformat_minor": 0,
  "metadata": {
    "colab": {
      "provenance": [],
      "gpuType": "T4"
    },
    "kernelspec": {
      "name": "python3",
      "display_name": "Python 3"
    },
    "language_info": {
      "name": "python"
    },
    "accelerator": "GPU"
  },
  "cells": [
    {
      "cell_type": "code",
      "execution_count": null,
      "metadata": {
        "colab": {
          "base_uri": "https://localhost:8080/"
        },
        "id": "dDtUTck7l0Kc",
        "outputId": "e45a386b-639f-4470-d510-80933cc15308"
      },
      "outputs": [
        {
          "output_type": "stream",
          "name": "stdout",
          "text": [
            "Mounted at /content/gdrive\n"
          ]
        }
      ],
      "source": [
        "from google.colab import drive\n",
        "\n",
        "drive.mount('/content/gdrive')"
      ]
    },
    {
      "cell_type": "code",
      "source": [
        "!pip install ultralytics\n",
        "from IPython import display\n",
        "display.clear_output()"
      ],
      "metadata": {
        "id": "b-el3MsdoOX_"
      },
      "execution_count": null,
      "outputs": []
    },
    {
      "cell_type": "code",
      "source": [
        "from ultralytics import YOLO"
      ],
      "metadata": {
        "id": "WvgxJTMpokZ_"
      },
      "execution_count": null,
      "outputs": []
    },
    {
      "cell_type": "code",
      "source": [
        "model = YOLO(\"/content/gdrive/MyDrive/Forensic_Detection_Model/FD_Model/weights/best.pt\")"
      ],
      "metadata": {
        "id": "vGJuFtTMoq-l"
      },
      "execution_count": null,
      "outputs": []
    },
    {
      "cell_type": "code",
      "source": [
        "# Image Test\n",
        "result = model.predict(source=\"/content/test.png\", save=True) # to specify certain confidence on prediction add conf argument (e.g. conf=0.4)"
      ],
      "metadata": {
        "id": "YTEUOtpbtP56"
      },
      "execution_count": null,
      "outputs": []
    },
    {
      "cell_type": "code",
      "source": [
        "# Video Test\n",
        "result = model.predict(source=\"/content/test.mp4\", save=True) # (conf=0.4)"
      ],
      "metadata": {
        "id": "i0PPZjpBnjaD"
      },
      "execution_count": null,
      "outputs": []
    },
    {
      "cell_type": "code",
      "source": [
        "# Live detection test (only works locally)\n",
        "result = model.predict(source=0, save=True) # (conf=0.4)"
      ],
      "metadata": {
        "id": "5TabFwhMjKnP"
      },
      "execution_count": null,
      "outputs": []
    },
    {
      "cell_type": "code",
      "source": [
        "# To detect multiple media files in a folder\n",
        "result = model.predict(source=\"/content/test\", save=True) # 'test' is a folder"
      ],
      "metadata": {
        "id": "CgqMsfJJo89R"
      },
      "execution_count": null,
      "outputs": []
    }
  ]
}