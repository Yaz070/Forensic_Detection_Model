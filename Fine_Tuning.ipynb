{
  "cells": [
    {
      "cell_type": "code",
      "execution_count": null,
      "metadata": {
        "colab": {
          "base_uri": "https://localhost:8080/"
        },
        "id": "WETfehTOLC1q",
        "outputId": "88e27703-548c-4294-f8b0-2eb6446f8b84"
      },
      "outputs": [
        {
          "output_type": "stream",
          "name": "stdout",
          "text": [
            "Mounted at /content/gdrive\n"
          ]
        }
      ],
      "source": [
        "from google.colab import drive\n",
        "\n",
        "drive.mount('/content/gdrive')"
      ]
    },
    {
      "cell_type": "code",
      "execution_count": null,
      "metadata": {
        "id": "IlMax5ozLeH8"
      },
      "outputs": [],
      "source": [
        "! unzip \"/content/gdrive/MyDrive/Dataset_V2.zip\" -d \"/content/Dataset_V2\""
      ]
    },
    {
      "cell_type": "code",
      "execution_count": null,
      "metadata": {
        "id": "6QpGpdSlLlBd"
      },
      "outputs": [],
      "source": [
        "!pip install ultralytics\n",
        "from IPython import display\n",
        "display.clear_output()"
      ]
    },
    {
      "cell_type": "code",
      "execution_count": null,
      "metadata": {
        "id": "2y15FGO7LvkA"
      },
      "outputs": [],
      "source": [
        "from ultralytics import YOLO"
      ]
    },
    {
      "cell_type": "code",
      "execution_count": null,
      "metadata": {
        "id": "Q-5WfxvSL4Dm"
      },
      "outputs": [],
      "source": [
        "model = YOLO(\"/content/gdrive/MyDrive/Forensic_Detection_Model/FD_Model/weights/last.pt\")"
      ]
    },
    {
      "cell_type": "code",
      "execution_count": null,
      "metadata": {
        "id": "cgtcqd8IMEZB"
      },
      "outputs": [],
      "source": [
        "savePath = '/content/gdrive/MyDrive/Forensic_Detection_Model'\n",
        "fileName = 'FD_Model_Fine_Tuned'"
      ]
    },
    {
      "cell_type": "code",
      "source": [
        "# Fine-Tuning with early stopping\n",
        "results = model.train(\n",
        "    data=\"/content/Dataset_V2/data.yaml\",\n",
        "    epochs=15,\n",
        "    optimizer=\"SGD\",\n",
        "    project=savePath,\n",
        "    name=fileName,\n",
        "    lr0=0.0001,\n",
        "    patience=5, # Early stopping patience\n",
        "    val=True,\n",
        "    mixup=0.3,\n",
        "    augment=True\n",
        ")"
      ],
      "metadata": {
        "id": "iuHQeQC43qpb"
      },
      "execution_count": null,
      "outputs": []
    },
    {
      "cell_type": "markdown",
      "metadata": {
        "id": "1IsuPfNFpMhq"
      },
      "source": []
    },
    {
      "cell_type": "code",
      "execution_count": null,
      "metadata": {
        "id": "D9tXC9E2M3nL"
      },
      "outputs": [],
      "source": [
        "model.val()"
      ]
    },
    {
      "cell_type": "markdown",
      "source": [
        "## Validation with a specific data (additional step)"
      ],
      "metadata": {
        "id": "SmfQ9V-4lcF9"
      }
    },
    {
      "cell_type": "code",
      "source": [
        "savePath = '/content/gdrive/MyDrive/Forensic_Detection_Model'\n",
        "fileName = 'FD_Model_Fine_Tuned_Val'"
      ],
      "metadata": {
        "id": "iWD_074A7-tv"
      },
      "execution_count": null,
      "outputs": []
    },
    {
      "cell_type": "code",
      "execution_count": null,
      "metadata": {
        "id": "Kwru5QpO0MmQ"
      },
      "outputs": [],
      "source": [
        "model.val(data='/content/Val_Imgs/data.yaml', split='val', project=savePath, name=fileName)"
      ]
    },
    {
      "cell_type": "markdown",
      "source": [],
      "metadata": {
        "id": "5CJSWrsyV8Yh"
      }
    }
  ],
  "metadata": {
    "accelerator": "GPU",
    "colab": {
      "gpuType": "T4",
      "provenance": []
    },
    "kernelspec": {
      "display_name": "Python 3",
      "name": "python3"
    },
    "language_info": {
      "name": "python"
    }
  },
  "nbformat": 4,
  "nbformat_minor": 0
}
